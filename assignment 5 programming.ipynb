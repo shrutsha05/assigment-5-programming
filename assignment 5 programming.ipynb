{
 "cells": [
  {
   "cell_type": "code",
   "execution_count": 4,
   "id": "04b309ea",
   "metadata": {},
   "outputs": [
    {
     "name": "stdout",
     "output_type": "stream",
     "text": [
      "enter the number for lcm:13\n",
      "enter the number for lcm:6\n",
      "the lcm is:  78\n"
     ]
    }
   ],
   "source": [
    "#q1\n",
    "a = int(input(\"enter the number for lcm:\"))\n",
    "b = int(input(\"enter the number for lcm:\"))\n",
    "c = a*b\n",
    "for i in range(1,c+1):\n",
    "    if(i%a==0 and i%b==0):\n",
    "        print(\"the lcm is: \", i)\n",
    "        break"
   ]
  },
  {
   "cell_type": "code",
   "execution_count": 8,
   "id": "03395030",
   "metadata": {},
   "outputs": [
    {
     "name": "stdout",
     "output_type": "stream",
     "text": [
      "enter a number:3\n",
      "enter the number:6\n",
      "the hcf is: 3\n"
     ]
    }
   ],
   "source": [
    "#q2\n",
    "a = int(input(\"enter a number:\"))\n",
    "b = int(input(\"enter the number:\"))\n",
    "min = 0\n",
    "if a < b:\n",
    "    min = a\n",
    "else:\n",
    "    min = b\n",
    "for i in range(2,min+1):\n",
    "    if(a%i==0 and b%i==0):\n",
    "        print(\"the hcf is:\", i)\n",
    "        break"
   ]
  },
  {
   "cell_type": "code",
   "execution_count": null,
   "id": "b4af83c8",
   "metadata": {},
   "outputs": [],
   "source": [
    "#q3\n",
    "a = int(input(\"enter a decimal number:\"))\n",
    "l = []\n",
    "temp = a\n",
    "while temp!=0:\n",
    "    k = (temp%2)\n",
    "    l.append(k)\n",
    "    temp = int(temp/2)\n",
    "l.reverse()\n",
    "print(\"the binary number is:\")\n",
    "for i in l:\n",
    "    print(i, end=\"\")\n",
    "print()\n",
    "t = a\n",
    "ll= []\n",
    "while t!=0:\n",
    "    o = t%8\n",
    "    ll.append(o)\n",
    "    t=int(t/8)\n",
    "ll.reverse()\n",
    "print(\"the octal number is:\")\n",
    "for i in ll:\n",
    "    print(i,end=\"\")\n",
    "\n",
    "    tt= a\n",
    "li=[]\n",
    "while tt!=0:\n",
    "    h=tt%16\n",
    "    li.append(h)\n",
    "    tt = int(tt/16)\n",
    "li.reverse()\n",
    "for i in li:\n",
    "    print(i, end=\"\")"
   ]
  },
  {
   "cell_type": "code",
   "execution_count": null,
   "id": "cfae7f22",
   "metadata": {},
   "outputs": [],
   "source": [
    "#q4\n",
    "c = 'p'\n",
    "\n",
    "a = ord(c)\n",
    "print(\"the ascii value is\", a)\n"
   ]
  },
  {
   "cell_type": "code",
   "execution_count": 14,
   "id": "6e170eb7",
   "metadata": {},
   "outputs": [
    {
     "name": "stdout",
     "output_type": "stream",
     "text": [
      "Enter the number one4\n",
      "Enter number 2:2\n",
      "the sum is 6\n",
      "the difference is: 2\n",
      "the product is: 8\n",
      "the quotient is 2.0\n"
     ]
    }
   ],
   "source": [
    "#q5\n",
    "\n",
    "def add(i,j):\n",
    "    n=i\n",
    "    m=j\n",
    "    s=n+m\n",
    "    print(\"the sum is:\",s)\n",
    "def subt(i,j):\n",
    "    n=i\n",
    "    m=j\n",
    "    if n>m:\n",
    "        d=n-m\n",
    "        print(\"the difference is:\",d)\n",
    "    else:\n",
    "        d=m-n\n",
    "        print(\"the difference is:\",d)\n",
    "def mult(i,j):\n",
    "    n=i\n",
    "    m=j\n",
    "    s=n*m\n",
    "    print(\"the product is:\",s)\n",
    "def div(i,j):\n",
    "    n=i,\n",
    "    m=j,\n",
    "    if i>j:\n",
    "        d=i/j\n",
    "        print(\"the quotient is\",d)\n",
    "    else:\n",
    "        j/i\n",
    "        print(\"the quotient is\",d)\n",
    "\n",
    "i=int(input(\"Enter the number one\"))\n",
    "j=int(input(\"Enter number 2:\"))\n",
    "add(i,j)\n",
    "subt(i,j)\n",
    "mult(i,j)\n",
    "div(i,j)\n",
    "\n"
   ]
  },
  {
   "cell_type": "code",
   "execution_count": null,
   "id": "8f34012c",
   "metadata": {},
   "outputs": [],
   "source": []
  }
 ],
 "metadata": {
  "kernelspec": {
   "display_name": "Python 3 (ipykernel)",
   "language": "python",
   "name": "python3"
  },
  "language_info": {
   "codemirror_mode": {
    "name": "ipython",
    "version": 3
   },
   "file_extension": ".py",
   "mimetype": "text/x-python",
   "name": "python",
   "nbconvert_exporter": "python",
   "pygments_lexer": "ipython3",
   "version": "3.9.7"
  }
 },
 "nbformat": 4,
 "nbformat_minor": 5
}
